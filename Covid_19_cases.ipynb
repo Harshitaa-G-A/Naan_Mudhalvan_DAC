{
  "nbformat": 4,
  "nbformat_minor": 0,
  "metadata": {
    "colab": {
      "provenance": []
    },
    "kernelspec": {
      "name": "python3",
      "display_name": "Python 3"
    },
    "language_info": {
      "name": "python"
    }
  },
  "cells": [
    {
      "cell_type": "code",
      "execution_count": 4,
      "metadata": {
        "colab": {
          "base_uri": "https://localhost:8080/"
        },
        "id": "G7lh11lbWfKt",
        "outputId": "cde95a40-6c31-4104-b392-66d5128fe476"
      },
      "outputs": [
        {
          "output_type": "stream",
          "name": "stdout",
          "text": [
            "<class 'pandas.core.frame.DataFrame'>\n",
            "RangeIndex: 2730 entries, 0 to 2729\n",
            "Data columns (total 7 columns):\n",
            " #   Column                   Non-Null Count  Dtype \n",
            "---  ------                   --------------  ----- \n",
            " 0   dateRep                  2730 non-null   object\n",
            " 1   day                      2730 non-null   int64 \n",
            " 2   month                    2730 non-null   int64 \n",
            " 3   year                     2730 non-null   int64 \n",
            " 4   cases                    2730 non-null   int64 \n",
            " 5   deaths                   2730 non-null   int64 \n",
            " 6   countriesAndTerritories  2730 non-null   object\n",
            "dtypes: int64(5), object(2)\n",
            "memory usage: 149.4+ KB\n",
            "None\n"
          ]
        }
      ],
      "source": [
        "import pandas as pd\n",
        "\n",
        "# Load the dataset\n",
        "data = pd.read_csv('/content/Covid_19_cases4.csv')\n",
        "\n",
        "# Display basic information about the dataset\n",
        "print(data.info())\n"
      ]
    },
    {
      "cell_type": "code",
      "source": [
        "# Display column names and data types\n",
        "print(data.dtypes)"
      ],
      "metadata": {
        "colab": {
          "base_uri": "https://localhost:8080/"
        },
        "id": "mKpi0ksWwmCQ",
        "outputId": "a6e1362b-9a89-4c87-bb57-c44c87faf085"
      },
      "execution_count": 5,
      "outputs": [
        {
          "output_type": "stream",
          "name": "stdout",
          "text": [
            "dateRep                    object\n",
            "day                         int64\n",
            "month                       int64\n",
            "year                        int64\n",
            "cases                       int64\n",
            "deaths                      int64\n",
            "countriesAndTerritories    object\n",
            "dtype: object\n"
          ]
        }
      ]
    },
    {
      "cell_type": "code",
      "source": [
        "# Display the first few rows of the dataset\n",
        "print(data.head())"
      ],
      "metadata": {
        "colab": {
          "base_uri": "https://localhost:8080/"
        },
        "id": "9Nv6MPuwwizK",
        "outputId": "cfebd94f-8ad0-4d4a-922f-3086c3ac019c"
      },
      "execution_count": 3,
      "outputs": [
        {
          "output_type": "stream",
          "name": "stdout",
          "text": [
            "      dateRep  day  month  year  cases  deaths countriesAndTerritories\n",
            "0  31-05-2021   31      5  2021    366       5                 Austria\n",
            "1  30-05-2021   30      5  2021    570       6                 Austria\n",
            "2  29-05-2021   29      5  2021    538      11                 Austria\n",
            "3  28-05-2021   28      5  2021    639       4                 Austria\n",
            "4  27-05-2021   27      5  2021    405      19                 Austria\n"
          ]
        }
      ]
    },
    {
      "cell_type": "code",
      "source": [
        "# Check for missing values\n",
        "print(data.isnull().sum())\n",
        "\n",
        "# Drop rows with missing values for demonstration (handle as needed)\n",
        "data.dropna(inplace=True)\n"
      ],
      "metadata": {
        "colab": {
          "base_uri": "https://localhost:8080/"
        },
        "id": "H8_J-LY4Xdza",
        "outputId": "3cba85ac-9073-444d-d9bf-95bda287d923"
      },
      "execution_count": 7,
      "outputs": [
        {
          "output_type": "stream",
          "name": "stdout",
          "text": [
            "dateRep                    0\n",
            "day                        0\n",
            "month                      0\n",
            "year                       0\n",
            "cases                      0\n",
            "deaths                     0\n",
            "countriesAndTerritories    0\n",
            "dtype: int64\n"
          ]
        }
      ]
    },
    {
      "cell_type": "code",
      "source": [
        "print(\"\\nSummary statistics:\")\n",
        "print(data.describe())"
      ],
      "metadata": {
        "colab": {
          "base_uri": "https://localhost:8080/"
        },
        "id": "iMeDb3Tpwxvu",
        "outputId": "8bff107e-62db-412a-d31d-4443a2a04039"
      },
      "execution_count": 11,
      "outputs": [
        {
          "output_type": "stream",
          "name": "stdout",
          "text": [
            "\n",
            "Summary statistics:\n",
            "               day        month    year         cases       deaths\n",
            "count  2730.000000  2730.000000  2730.0   2730.000000  2730.000000\n",
            "mean     16.000000     4.010989  2021.0   3661.010989    65.291941\n",
            "std       8.765919     0.818813     0.0   6490.510073   113.956634\n",
            "min       1.000000     3.000000  2021.0  -2001.000000    -3.000000\n",
            "25%       8.000000     3.000000  2021.0    361.250000     2.000000\n",
            "50%      16.000000     4.000000  2021.0    926.500000    14.500000\n",
            "75%      24.000000     5.000000  2021.0   3916.250000    72.000000\n",
            "max      31.000000     5.000000  2021.0  53843.000000   956.000000\n"
          ]
        }
      ]
    },
    {
      "cell_type": "code",
      "source": [
        "# Remove duplicates if any\n",
        "data.drop_duplicates(inplace=True)\n"
      ],
      "metadata": {
        "id": "CZIb1ZExXnc2"
      },
      "execution_count": 6,
      "outputs": []
    },
    {
      "cell_type": "code",
      "source": [
        "# Or impute missing values with mean for numerical columns\n",
        "data.fillna(data.mean(), inplace=True)"
      ],
      "metadata": {
        "id": "nZnuTDAZxwIS"
      },
      "execution_count": null,
      "outputs": []
    },
    {
      "cell_type": "code",
      "source": [
        "output_file_path = '/content/preprocessed_data.csv'\n",
        "data.to_csv(output_file_path, index=False)\n",
        "\n",
        "print(\"Preprocessing completed. Preprocessed data saved to:\", output_file_path)"
      ],
      "metadata": {
        "colab": {
          "base_uri": "https://localhost:8080/"
        },
        "id": "d-a-qGQGw606",
        "outputId": "13d32cfb-1c26-4fde-a1a1-e4e33a2023bc"
      },
      "execution_count": 9,
      "outputs": [
        {
          "output_type": "stream",
          "name": "stdout",
          "text": [
            "Preprocessing completed. Preprocessed data saved to: /content/preprocessed_data.csv\n"
          ]
        }
      ]
    }
  ]
}