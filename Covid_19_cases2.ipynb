{
  "nbformat": 4,
  "nbformat_minor": 0,
  "metadata": {
    "colab": {
      "provenance": []
    },
    "kernelspec": {
      "name": "python3",
      "display_name": "Python 3"
    },
    "language_info": {
      "name": "python"
    }
  },
  "cells": [
    {
      "cell_type": "code",
      "execution_count": 2,
      "metadata": {
        "colab": {
          "base_uri": "https://localhost:8080/"
        },
        "id": "G7lh11lbWfKt",
        "outputId": "a5be4152-2a58-4878-d47e-a14a14db649b"
      },
      "outputs": [
        {
          "output_type": "stream",
          "name": "stdout",
          "text": [
            "<class 'pandas.core.frame.DataFrame'>\n",
            "RangeIndex: 2730 entries, 0 to 2729\n",
            "Data columns (total 7 columns):\n",
            " #   Column                   Non-Null Count  Dtype \n",
            "---  ------                   --------------  ----- \n",
            " 0   dateRep                  2730 non-null   object\n",
            " 1   day                      2730 non-null   int64 \n",
            " 2   month                    2730 non-null   int64 \n",
            " 3   year                     2730 non-null   int64 \n",
            " 4   cases                    2730 non-null   int64 \n",
            " 5   deaths                   2730 non-null   int64 \n",
            " 6   countriesAndTerritories  2730 non-null   object\n",
            "dtypes: int64(5), object(2)\n",
            "memory usage: 149.4+ KB\n",
            "None\n"
          ]
        }
      ],
      "source": [
        "import pandas as pd\n",
        "\n",
        "# Load the dataset\n",
        "data = pd.read_csv('/content/Covid_19_cases4.csv')\n",
        "\n",
        "# Display basic information about the dataset\n",
        "print(data.info())\n"
      ]
    },
    {
      "cell_type": "code",
      "source": [
        "# Display column names and data types\n",
        "print(data.dtypes)"
      ],
      "metadata": {
        "colab": {
          "base_uri": "https://localhost:8080/"
        },
        "id": "mKpi0ksWwmCQ",
        "outputId": "64c13b12-8fe9-46d7-ea2f-6d91cf8e2a22"
      },
      "execution_count": 3,
      "outputs": [
        {
          "output_type": "stream",
          "name": "stdout",
          "text": [
            "dateRep                    object\n",
            "day                         int64\n",
            "month                       int64\n",
            "year                        int64\n",
            "cases                       int64\n",
            "deaths                      int64\n",
            "countriesAndTerritories    object\n",
            "dtype: object\n"
          ]
        }
      ]
    },
    {
      "cell_type": "code",
      "source": [
        "# Display the first few rows of the dataset\n",
        "print(data.head())"
      ],
      "metadata": {
        "colab": {
          "base_uri": "https://localhost:8080/"
        },
        "id": "9Nv6MPuwwizK",
        "outputId": "03b10c8d-51ea-4f6d-9186-3955a0c7ee78"
      },
      "execution_count": 4,
      "outputs": [
        {
          "output_type": "stream",
          "name": "stdout",
          "text": [
            "      dateRep  day  month  year  cases  deaths countriesAndTerritories\n",
            "0  31-05-2021   31      5  2021    366       5                 Austria\n",
            "1  30-05-2021   30      5  2021    570       6                 Austria\n",
            "2  29-05-2021   29      5  2021    538      11                 Austria\n",
            "3  28-05-2021   28      5  2021    639       4                 Austria\n",
            "4  27-05-2021   27      5  2021    405      19                 Austria\n"
          ]
        }
      ]
    },
    {
      "cell_type": "code",
      "source": [
        "# Check for missing values\n",
        "print(data.isnull().sum())\n",
        "\n",
        "# Drop rows with missing values for demonstration (handle as needed)\n",
        "data.dropna(inplace=True)\n"
      ],
      "metadata": {
        "colab": {
          "base_uri": "https://localhost:8080/"
        },
        "id": "H8_J-LY4Xdza",
        "outputId": "62b1f5bf-0c37-4137-ba2c-0cb15f3cc0bc"
      },
      "execution_count": 5,
      "outputs": [
        {
          "output_type": "stream",
          "name": "stdout",
          "text": [
            "dateRep                    0\n",
            "day                        0\n",
            "month                      0\n",
            "year                       0\n",
            "cases                      0\n",
            "deaths                     0\n",
            "countriesAndTerritories    0\n",
            "dtype: int64\n"
          ]
        }
      ]
    },
    {
      "cell_type": "code",
      "source": [
        "print(\"\\nSummary statistics:\")\n",
        "print(data.describe())"
      ],
      "metadata": {
        "colab": {
          "base_uri": "https://localhost:8080/"
        },
        "id": "iMeDb3Tpwxvu",
        "outputId": "c6312102-89cf-4de3-f312-fba351dd1e7b"
      },
      "execution_count": 6,
      "outputs": [
        {
          "output_type": "stream",
          "name": "stdout",
          "text": [
            "\n",
            "Summary statistics:\n",
            "               day        month    year         cases       deaths\n",
            "count  2730.000000  2730.000000  2730.0   2730.000000  2730.000000\n",
            "mean     16.000000     4.010989  2021.0   3661.010989    65.291941\n",
            "std       8.765919     0.818813     0.0   6490.510073   113.956634\n",
            "min       1.000000     3.000000  2021.0  -2001.000000    -3.000000\n",
            "25%       8.000000     3.000000  2021.0    361.250000     2.000000\n",
            "50%      16.000000     4.000000  2021.0    926.500000    14.500000\n",
            "75%      24.000000     5.000000  2021.0   3916.250000    72.000000\n",
            "max      31.000000     5.000000  2021.0  53843.000000   956.000000\n"
          ]
        }
      ]
    },
    {
      "cell_type": "code",
      "source": [
        "# Remove duplicates if any\n",
        "data.drop_duplicates(inplace=True)\n"
      ],
      "metadata": {
        "id": "CZIb1ZExXnc2"
      },
      "execution_count": 7,
      "outputs": []
    },
    {
      "cell_type": "code",
      "source": [
        "# Or impute missing values with mean for numerical columns\n",
        "data.fillna(data.mean(), inplace=True)"
      ],
      "metadata": {
        "id": "nZnuTDAZxwIS",
        "colab": {
          "base_uri": "https://localhost:8080/"
        },
        "outputId": "c5215d11-d672-47ab-eb9f-ea9fbecb41b6"
      },
      "execution_count": 8,
      "outputs": [
        {
          "output_type": "stream",
          "name": "stderr",
          "text": [
            "<ipython-input-8-5fa849e315f0>:2: FutureWarning: The default value of numeric_only in DataFrame.mean is deprecated. In a future version, it will default to False. In addition, specifying 'numeric_only=None' is deprecated. Select only valid columns or specify the value of numeric_only to silence this warning.\n",
            "  data.fillna(data.mean(), inplace=True)\n"
          ]
        }
      ]
    },
    {
      "cell_type": "code",
      "source": [
        "output_file_path = '/content/Covid19_preprocessed_data.csv'\n",
        "data.to_csv(output_file_path, index=False)\n",
        "\n",
        "print(\"Preprocessing completed. Preprocessed data saved to:\", output_file_path)"
      ],
      "metadata": {
        "colab": {
          "base_uri": "https://localhost:8080/"
        },
        "id": "d-a-qGQGw606",
        "outputId": "523d77a9-6796-42d3-d555-31db46229001"
      },
      "execution_count": 9,
      "outputs": [
        {
          "output_type": "stream",
          "name": "stdout",
          "text": [
            "Preprocessing completed. Preprocessed data saved to: /content/Covid19_preprocessed_data.csv\n"
          ]
        }
      ]
    },
    {
      "cell_type": "code",
      "source": [
        "#to find mean of cases\n",
        "mean=data['cases'].mean()\n",
        "print(mean)"
      ],
      "metadata": {
        "colab": {
          "base_uri": "https://localhost:8080/"
        },
        "id": "atKkvKd1AaWw",
        "outputId": "f1d2401c-3788-4e29-8a4c-e3b1ff7d1938"
      },
      "execution_count": 10,
      "outputs": [
        {
          "output_type": "stream",
          "name": "stdout",
          "text": [
            "3661.010989010989\n"
          ]
        }
      ]
    },
    {
      "cell_type": "code",
      "source": [
        "#to find mean of deaths\n",
        "mean_deaths=data['deaths'].mean()\n",
        "print(mean_deaths)"
      ],
      "metadata": {
        "colab": {
          "base_uri": "https://localhost:8080/"
        },
        "id": "carX3xk7Ay0M",
        "outputId": "0e00ff99-7442-432a-92f0-ac75b2200e6c"
      },
      "execution_count": 11,
      "outputs": [
        {
          "output_type": "stream",
          "name": "stdout",
          "text": [
            "65.29194139194139\n"
          ]
        }
      ]
    },
    {
      "cell_type": "code",
      "source": [
        "#to find std of cases\n",
        "std=data['cases'].std()\n",
        "print(std)"
      ],
      "metadata": {
        "colab": {
          "base_uri": "https://localhost:8080/"
        },
        "id": "4u8aa98PBEj3",
        "outputId": "f8185ea4-a516-4562-f9fb-bbe71d4c59e0"
      },
      "execution_count": 12,
      "outputs": [
        {
          "output_type": "stream",
          "name": "stdout",
          "text": [
            "6490.510073102118\n"
          ]
        }
      ]
    },
    {
      "cell_type": "code",
      "source": [
        "#to find std of deaths\n",
        "std_deaths=data['deaths'].std()\n",
        "print(std_deaths)"
      ],
      "metadata": {
        "colab": {
          "base_uri": "https://localhost:8080/"
        },
        "id": "FhVIm89lBUKk",
        "outputId": "7ffacfc3-5161-47c0-b0e1-aec6c2cb89a8"
      },
      "execution_count": 13,
      "outputs": [
        {
          "output_type": "stream",
          "name": "stdout",
          "text": [
            "113.95663405806991\n"
          ]
        }
      ]
    },
    {
      "cell_type": "code",
      "source": [
        "data['mean_cases'] = mean\n",
        "print(data)"
      ],
      "metadata": {
        "colab": {
          "base_uri": "https://localhost:8080/"
        },
        "id": "wAXwy6JTMBf2",
        "outputId": "2c5cba6a-e8c8-432b-ecd2-87eda02c600f"
      },
      "execution_count": 14,
      "outputs": [
        {
          "output_type": "stream",
          "name": "stdout",
          "text": [
            "         dateRep  day  month  year  cases  deaths countriesAndTerritories  \\\n",
            "0     31-05-2021   31      5  2021    366       5                 Austria   \n",
            "1     30-05-2021   30      5  2021    570       6                 Austria   \n",
            "2     29-05-2021   29      5  2021    538      11                 Austria   \n",
            "3     28-05-2021   28      5  2021    639       4                 Austria   \n",
            "4     27-05-2021   27      5  2021    405      19                 Austria   \n",
            "...          ...  ...    ...   ...    ...     ...                     ...   \n",
            "2725  06-03-2021    6      3  2021   3455      17                  Sweden   \n",
            "2726  05-03-2021    5      3  2021   4069      12                  Sweden   \n",
            "2727  04-03-2021    4      3  2021   4884      14                  Sweden   \n",
            "2728  03-03-2021    3      3  2021   4876      19                  Sweden   \n",
            "2729  02-03-2021    2      3  2021   6191      19                  Sweden   \n",
            "\n",
            "       mean_cases  \n",
            "0     3661.010989  \n",
            "1     3661.010989  \n",
            "2     3661.010989  \n",
            "3     3661.010989  \n",
            "4     3661.010989  \n",
            "...           ...  \n",
            "2725  3661.010989  \n",
            "2726  3661.010989  \n",
            "2727  3661.010989  \n",
            "2728  3661.010989  \n",
            "2729  3661.010989  \n",
            "\n",
            "[2730 rows x 8 columns]\n"
          ]
        }
      ]
    },
    {
      "cell_type": "code",
      "source": [
        "data['mean_deaths'] = mean_deaths\n",
        "data['std_deaths'] = std_deaths\n",
        "data['std_cases'] = std"
      ],
      "metadata": {
        "id": "1vufq6ITMhhG"
      },
      "execution_count": 15,
      "outputs": []
    },
    {
      "cell_type": "code",
      "source": [
        "#for deaths\n",
        "import pandas as pd\n",
        "import matplotlib.pyplot as plt\n",
        "\n",
        "data = pd.read_csv('/content/Covid_19_cases4.csv')\n",
        "\n",
        "# Calculate mean and standard deviation\n",
        "mean_deaths = data['deaths'].mean()\n",
        "std_deaths = data['deaths'].std()\n",
        "\n",
        "# Create a bar chart to visualize the mean and standard deviation\n",
        "plt.bar(['Mean', 'Std'], [mean_deaths, std_deaths], color=['r', 'g'])\n",
        "plt.xlabel('Statistics')\n",
        "plt.ylabel('Value')\n",
        "plt.title('Mean and Standard Deviation of Deaths')\n",
        "plt.show()\n"
      ],
      "metadata": {
        "colab": {
          "base_uri": "https://localhost:8080/",
          "height": 472
        },
        "id": "EA-VVB9-lgTd",
        "outputId": "510ea162-ad69-49cd-d02a-01d72adbbb3d"
      },
      "execution_count": 21,
      "outputs": [
        {
          "output_type": "display_data",
          "data": {
            "text/plain": [
              "<Figure size 640x480 with 1 Axes>"
            ],
            "image/png": "[encoded data removed]"
          },
          "metadata": {}
        }
      ]
    },
    {
      "cell_type": "code",
      "source": [
        "#for cases\n",
        "import pandas as pd\n",
        "import matplotlib.pyplot as plt\n",
        "\n",
        "data = pd.read_csv('/content/Covid_19_cases4.csv')\n",
        "\n",
        "# Calculate mean and standard deviation\n",
        "mean_deaths = data['cases'].mean()\n",
        "std_deaths = data['cases'].std()\n",
        "\n",
        "# Create a bar chart to visualize the mean and standard deviation\n",
        "plt.bar(['Mean', 'Std'], [mean_deaths, std_deaths], color=['r', 'g'])\n",
        "plt.xlabel('Statistics')\n",
        "plt.ylabel('Value')\n",
        "plt.title('Mean and Standard Deviation of Deaths')\n",
        "plt.show()\n"
      ],
      "metadata": {
        "colab": {
          "base_uri": "https://localhost:8080/",
          "height": 472
        },
        "id": "chjN7Nbel4O-",
        "outputId": "69fd1616-4cd4-4a73-9f20-05b5f0b060ec"
      },
      "execution_count": 22,
      "outputs": [
        {
          "output_type": "display_data",
          "data": {
            "text/plain": [
              "<Figure size 640x480 with 1 Axes>"
            ],
            "image/png": "[encoded data removed]"
          },
          "metadata": {}
        }
      ]
    }
  ]
}